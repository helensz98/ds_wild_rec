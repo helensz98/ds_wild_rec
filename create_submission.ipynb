{
 "cells": [
  {
   "cell_type": "code",
   "execution_count": 1,
   "id": "02462ea9-cb8a-49c4-9b7f-cdfd5b58bcb4",
   "metadata": {},
   "outputs": [],
   "source": [
    "import pandas as pd\n",
    "\n",
    "def get_candidates(target):\n",
    "    path = f\"output/candidate/{target}.parquet\"\n",
    "    return pd.read_parquet(path)"
   ]
  },
  {
   "cell_type": "code",
   "execution_count": 2,
   "id": "67c4650f-9681-4891-8af4-d8d34f23fbbf",
   "metadata": {},
   "outputs": [],
   "source": [
    "# compress candidates to the required format\n",
    "def compress_candidates(data, submission_file):\n",
    "    data = data.groupby([\"session\", \"type\"])['aid'].apply(list).reset_index()\n",
    "    data.columns = ['session', 'type', 'labels']\n",
    "    data['session_type'] = data['session'].astype(str) + \"_\" + data['type'].map({0: \"clicks\", 1: \"carts\", 2: \"orders\"})\n",
    "    data = data[['session_type', 'labels']]\n",
    "    data['labels'] = data['labels'].apply(lambda x: \" \".join(map(str, x)))\n",
    "    data.to_csv(f\"{submission_file}\", index=False)\n",
    "    return data"
   ]
  },
  {
   "cell_type": "code",
   "execution_count": 3,
   "id": "da33d3eb-ee93-4df0-a610-a4c907837957",
   "metadata": {},
   "outputs": [],
   "source": [
    "# df = get_candidates(\"als_test\")\n",
    "# compress_candidates(df, \"als_only.csv\")"
   ]
  },
  {
   "cell_type": "code",
   "execution_count": 4,
   "id": "0a57479d-e4bd-4781-a151-244b971f4128",
   "metadata": {},
   "outputs": [],
   "source": [
    "# df = get_candidates(\"bpr_test\")\n",
    "# compress_candidates(df, \"bpr_only.csv\")"
   ]
  },
  {
   "cell_type": "code",
   "execution_count": 5,
   "id": "75db10af-b264-46db-a5b1-5b00bb7d46e6",
   "metadata": {},
   "outputs": [],
   "source": [
    "# df = get_candidates(\"causal_cov_test\")\n",
    "# compress_candidates(df, \"causal_cov_vote.csv\")"
   ]
  },
  {
   "cell_type": "code",
   "execution_count": 6,
   "id": "2228f4f6-de3e-43f4-97c3-d7de3c4ee13e",
   "metadata": {},
   "outputs": [],
   "source": [
    "# df = get_candidates(\"cov_test\")\n",
    "# compress_candidates(df, \"cov_vote.csv\")"
   ]
  },
  {
   "cell_type": "code",
   "execution_count": 7,
   "id": "6e7cc906-633e-43db-9ce5-b80be16c70ae",
   "metadata": {},
   "outputs": [],
   "source": [
    "# df = get_candidates(\"click_only\")\n",
    "# compress_candidates(df, \"click_only.csv\")"
   ]
  },
  {
   "cell_type": "code",
   "execution_count": 8,
   "id": "528616d9-9627-48e3-939a-042896cb67a8",
   "metadata": {},
   "outputs": [],
   "source": [
    "# df = get_candidates(\"buy2buy_only\")\n",
    "# compress_candidates(df, \"buy2buy_only.csv\")"
   ]
  },
  {
   "cell_type": "code",
   "execution_count": 9,
   "id": "0aea0232-2bff-4f8b-8c69-91888cfae80a",
   "metadata": {},
   "outputs": [],
   "source": [
    "# df = get_candidates(\"cart_order_only\")\n",
    "# compress_candidates(df, \"cart_order_only.csv\")"
   ]
  },
  {
   "cell_type": "code",
   "execution_count": 10,
   "id": "51cc88c1-e91a-4ceb-833b-fbd25e4664da",
   "metadata": {},
   "outputs": [],
   "source": [
    "# df = get_candidates(\"close_decay_only_cand\")\n",
    "# compress_candidates(df, \"close_decay_only.csv\")"
   ]
  },
  {
   "cell_type": "code",
   "execution_count": 11,
   "id": "c7ae7841",
   "metadata": {},
   "outputs": [],
   "source": [
    "# df = get_candidates(\"consecutive_only_cand\")\n",
    "# compress_candidates(df, \"consecutive_only.csv\")"
   ]
  },
  {
   "cell_type": "code",
   "execution_count": 12,
   "id": "3058b8eb-98cc-444f-9f74-c194e7f4d8c2",
   "metadata": {},
   "outputs": [],
   "source": [
    "# df = get_candidates(\"causal_click_only\")\n",
    "# compress_candidates(df, \"cuasal_click_only.csv\")"
   ]
  },
  {
   "cell_type": "code",
   "execution_count": 13,
   "id": "07bace31-cac8-4a19-93ce-336a6adfa4c9",
   "metadata": {},
   "outputs": [],
   "source": [
    "# df = get_candidates(\"causal_buy2buy_only\")\n",
    "# compress_candidates(df, \"causal_buy2buy_only.csv\")"
   ]
  },
  {
   "cell_type": "code",
   "execution_count": 14,
   "id": "1dd4d566-1a1e-4250-a898-6481a5e4f3e2",
   "metadata": {},
   "outputs": [],
   "source": [
    "# df = get_candidates(\"causal_cart_order_only\")\n",
    "# compress_candidates(df, \"causal_cart_order_only.csv\")"
   ]
  },
  {
   "cell_type": "code",
   "execution_count": null,
   "id": "50d14c05-3048-4b55-ae56-b6f3d67943b0",
   "metadata": {},
   "outputs": [],
   "source": []
  }
 ],
 "metadata": {
  "kernelspec": {
   "display_name": "Python 3 (ipykernel)",
   "language": "python",
   "name": "python3"
  },
  "language_info": {
   "codemirror_mode": {
    "name": "ipython",
    "version": 3
   },
   "file_extension": ".py",
   "mimetype": "text/x-python",
   "name": "python",
   "nbconvert_exporter": "python",
   "pygments_lexer": "ipython3",
   "version": "3.9.5"
  }
 },
 "nbformat": 4,
 "nbformat_minor": 5
}
